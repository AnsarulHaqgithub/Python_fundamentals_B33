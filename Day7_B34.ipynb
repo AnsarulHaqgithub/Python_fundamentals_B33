{
 "cells": [
  {
   "cell_type": "code",
   "execution_count": 1,
   "metadata": {},
   "outputs": [],
   "source": [
    "clients = ['Ajay','Amar','anju','sonal','Ruhi','deepak', 'das']"
   ]
  },
  {
   "cell_type": "code",
   "execution_count": 8,
   "metadata": {},
   "outputs": [
    {
     "name": "stdout",
     "output_type": "stream",
     "text": [
      "Hi Ajay, our new offer is starting on this date. \n",
      " you can save good amount of money\n",
      "Hi Amar, our new offer is starting on this date. \n",
      " you can save good amount of money\n",
      "Hi Anju, our new offer is starting on this date. \n",
      " you can save good amount of money\n",
      "Hi Sonal, our new offer is starting on this date. \n",
      " you can save good amount of money\n",
      "Hi Ruhi, our new offer is starting on this date. \n",
      " you can save good amount of money\n",
      "Hi Deepak, our new offer is starting on this date. \n",
      " you can save good amount of money\n",
      "Hi Das, our new offer is starting on this date. \n",
      " you can save good amount of money\n",
      "Regards,\n",
      "Ansarul Haq\n"
     ]
    }
   ],
   "source": [
    "for x in clients:\n",
    "    print(f\"Hi {x.title()}, our new offer is starting on this date. \\n you can save good amount of money\")#for loops\n",
    "print(f\"Regards,\\nAnsarul Haq\")"
   ]
  },
  {
   "cell_type": "code",
   "execution_count": null,
   "metadata": {},
   "outputs": [],
   "source": []
  },
  {
   "cell_type": "code",
   "execution_count": null,
   "metadata": {},
   "outputs": [],
   "source": []
  },
  {
   "cell_type": "code",
   "execution_count": null,
   "metadata": {},
   "outputs": [],
   "source": []
  },
  {
   "cell_type": "code",
   "execution_count": null,
   "metadata": {},
   "outputs": [],
   "source": []
  },
  {
   "cell_type": "code",
   "execution_count": null,
   "metadata": {},
   "outputs": [],
   "source": []
  },
  {
   "cell_type": "code",
   "execution_count": null,
   "metadata": {},
   "outputs": [],
   "source": []
  },
  {
   "cell_type": "code",
   "execution_count": null,
   "metadata": {},
   "outputs": [],
   "source": []
  },
  {
   "cell_type": "code",
   "execution_count": null,
   "metadata": {},
   "outputs": [],
   "source": []
  },
  {
   "cell_type": "code",
   "execution_count": null,
   "metadata": {},
   "outputs": [],
   "source": []
  },
  {
   "cell_type": "code",
   "execution_count": null,
   "metadata": {},
   "outputs": [],
   "source": []
  }
 ],
 "metadata": {
  "kernelspec": {
   "display_name": "Python 3",
   "language": "python",
   "name": "python3"
  },
  "language_info": {
   "codemirror_mode": {
    "name": "ipython",
    "version": 3
   },
   "file_extension": ".py",
   "mimetype": "text/x-python",
   "name": "python",
   "nbconvert_exporter": "python",
   "pygments_lexer": "ipython3",
   "version": "3.8.5"
  }
 },
 "nbformat": 4,
 "nbformat_minor": 4
}
